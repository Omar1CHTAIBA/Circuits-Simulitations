{
 "cells": [
  {
   "cell_type": "code",
   "execution_count": 1,
   "id": "62c79385-bf74-4d5e-a9af-e72426719c0d",
   "metadata": {},
   "outputs": [],
   "source": [
    "import numpy as np, sympy as sp"
   ]
  },
  {
   "cell_type": "code",
   "execution_count": 39,
   "id": "bff24e43-e06a-4d0d-9562-03519efa6fd4",
   "metadata": {},
   "outputs": [],
   "source": [
    "CCX = np.array([\n",
    "    [1, 0, 0, 0, 0, 0, 0, 0],\n",
    "    [0, 1, 0, 0, 0, 0, 0, 0],\n",
    "    [0, 0, 1, 0, 0, 0, 0, 0],\n",
    "    [0, 0, 0, 1, 0, 0, 0, 0],\n",
    "    [0, 0, 0, 0, 1, 0, 0, 0],\n",
    "    [0, 0, 0, 0, 0, 1, 0, 0],\n",
    "    [0, 0, 0, 0, 0, 0, 0, 1], \n",
    "    [0, 0, 0, 0, 0, 0, 1, 0]])"
   ]
  },
  {
   "cell_type": "code",
   "execution_count": 3,
   "id": "a4b13e89-e4e2-4371-b496-fa8bddd1a916",
   "metadata": {},
   "outputs": [
    {
     "data": {
      "text/latex": [
       "$\\displaystyle \\left[\\begin{matrix}1 & 0 & 0 & 0 & 0 & 0 & 0 & 0\\\\0 & 1 & 0 & 0 & 0 & 0 & 0 & 0\\\\0 & 0 & 1 & 0 & 0 & 0 & 0 & 0\\\\0 & 0 & 0 & 1 & 0 & 0 & 0 & 0\\\\0 & 0 & 0 & 0 & 1 & 0 & 0 & 0\\\\0 & 0 & 0 & 0 & 0 & 1 & 0 & 0\\\\0 & 0 & 0 & 0 & 0 & 0 & 0 & 1\\\\0 & 0 & 0 & 0 & 0 & 0 & 1 & 0\\end{matrix}\\right]$"
      ],
      "text/plain": [
       "Matrix([\n",
       "[1, 0, 0, 0, 0, 0, 0, 0],\n",
       "[0, 1, 0, 0, 0, 0, 0, 0],\n",
       "[0, 0, 1, 0, 0, 0, 0, 0],\n",
       "[0, 0, 0, 1, 0, 0, 0, 0],\n",
       "[0, 0, 0, 0, 1, 0, 0, 0],\n",
       "[0, 0, 0, 0, 0, 1, 0, 0],\n",
       "[0, 0, 0, 0, 0, 0, 0, 1],\n",
       "[0, 0, 0, 0, 0, 0, 1, 0]])"
      ]
     },
     "execution_count": 3,
     "metadata": {},
     "output_type": "execute_result"
    }
   ],
   "source": [
    "sp.Matrix(CCX)"
   ]
  },
  {
   "cell_type": "code",
   "execution_count": 8,
   "id": "40afd276-3a2b-4ca4-ba02-6011a9be1757",
   "metadata": {},
   "outputs": [],
   "source": [
    "ket_0 = np.array([[1],\n",
    "                [0]])\n",
    "ket_1 = np.array([[0],\n",
    "                [1]])\n",
    "ket_000 = np.kron(np.kron(ket_0,ket_0), ket_0)\n",
    "\n",
    "ket_110 = np.kron(np.kron(ket_1, ket_1), ket_0)\n",
    "\n"
   ]
  },
  {
   "cell_type": "code",
   "execution_count": 11,
   "id": "0b19141c-83b8-40b2-8f78-9501ae12411b",
   "metadata": {},
   "outputs": [
    {
     "data": {
      "text/latex": [
       "$\\displaystyle \\left[\\begin{matrix}1\\\\0\\\\0\\\\0\\\\0\\\\0\\\\0\\\\0\\end{matrix}\\right]$"
      ],
      "text/plain": [
       "Matrix([\n",
       "[1],\n",
       "[0],\n",
       "[0],\n",
       "[0],\n",
       "[0],\n",
       "[0],\n",
       "[0],\n",
       "[0]])"
      ]
     },
     "execution_count": 11,
     "metadata": {},
     "output_type": "execute_result"
    }
   ],
   "source": [
    "sp.Matrix(ket_000)"
   ]
  },
  {
   "cell_type": "code",
   "execution_count": 12,
   "id": "0e0c6bc9-d054-42bf-a1f5-1a11ad932f8c",
   "metadata": {},
   "outputs": [
    {
     "data": {
      "text/latex": [
       "$\\displaystyle \\left[\\begin{matrix}0\\\\0\\\\0\\\\0\\\\0\\\\0\\\\1\\\\0\\end{matrix}\\right]$"
      ],
      "text/plain": [
       "Matrix([\n",
       "[0],\n",
       "[0],\n",
       "[0],\n",
       "[0],\n",
       "[0],\n",
       "[0],\n",
       "[1],\n",
       "[0]])"
      ]
     },
     "execution_count": 12,
     "metadata": {},
     "output_type": "execute_result"
    }
   ],
   "source": [
    "sp.Matrix(ket_110)"
   ]
  },
  {
   "cell_type": "code",
   "execution_count": 28,
   "id": "6ba8b462-59af-4380-8be9-35478f7a2ce2",
   "metadata": {},
   "outputs": [],
   "source": [
    "# Finding the Main Matrix of a circuit made by 3 sub-circuits the first a normal one the second with an X gate and the third is like the first \n",
    "# we can say that this is a simple simulation with Linear Algebra\n",
    "I = np.array([[1, 0],  # identity matrix\n",
    "            [0,1]])\n",
    "X = np.array([[0, 1],\n",
    "                         [1, 0]])"
   ]
  },
  {
   "cell_type": "code",
   "execution_count": 29,
   "id": "207a6ac3-d712-4e09-8621-9dae3018f9e7",
   "metadata": {},
   "outputs": [
    {
     "data": {
      "text/latex": [
       "$\\displaystyle \\left[\\begin{matrix}0 & 1\\\\1 & 0\\end{matrix}\\right]$"
      ],
      "text/plain": [
       "Matrix([\n",
       "[0, 1],\n",
       "[1, 0]])"
      ]
     },
     "execution_count": 29,
     "metadata": {},
     "output_type": "execute_result"
    }
   ],
   "source": [
    "sp.Matrix(X)"
   ]
  },
  {
   "cell_type": "code",
   "execution_count": 30,
   "id": "db0344bc-f7a5-4008-bda5-eb22fd3864f3",
   "metadata": {},
   "outputs": [
    {
     "data": {
      "text/latex": [
       "$\\displaystyle \\left[\\begin{matrix}1 & 0\\\\0 & 1\\end{matrix}\\right]$"
      ],
      "text/plain": [
       "Matrix([\n",
       "[1, 0],\n",
       "[0, 1]])"
      ]
     },
     "execution_count": 30,
     "metadata": {},
     "output_type": "execute_result"
    }
   ],
   "source": [
    "sp.Matrix(I)"
   ]
  },
  {
   "cell_type": "code",
   "execution_count": 31,
   "id": "d5e957e8-12fa-4c7c-ab65-b43e8e17f30d",
   "metadata": {},
   "outputs": [],
   "source": [
    "Q = np.kron(np.kron(I, X), I)\n"
   ]
  },
  {
   "cell_type": "code",
   "execution_count": 32,
   "id": "301e68de-35ca-41eb-b30b-3e2582995e02",
   "metadata": {},
   "outputs": [
    {
     "data": {
      "text/latex": [
       "$\\displaystyle \\left[\\begin{matrix}0 & 0 & 1 & 0 & 0 & 0 & 0 & 0\\\\0 & 0 & 0 & 1 & 0 & 0 & 0 & 0\\\\1 & 0 & 0 & 0 & 0 & 0 & 0 & 0\\\\0 & 1 & 0 & 0 & 0 & 0 & 0 & 0\\\\0 & 0 & 0 & 0 & 0 & 0 & 1 & 0\\\\0 & 0 & 0 & 0 & 0 & 0 & 0 & 1\\\\0 & 0 & 0 & 0 & 1 & 0 & 0 & 0\\\\0 & 0 & 0 & 0 & 0 & 1 & 0 & 0\\end{matrix}\\right]$"
      ],
      "text/plain": [
       "Matrix([\n",
       "[0, 0, 1, 0, 0, 0, 0, 0],\n",
       "[0, 0, 0, 1, 0, 0, 0, 0],\n",
       "[1, 0, 0, 0, 0, 0, 0, 0],\n",
       "[0, 1, 0, 0, 0, 0, 0, 0],\n",
       "[0, 0, 0, 0, 0, 0, 1, 0],\n",
       "[0, 0, 0, 0, 0, 0, 0, 1],\n",
       "[0, 0, 0, 0, 1, 0, 0, 0],\n",
       "[0, 0, 0, 0, 0, 1, 0, 0]])"
      ]
     },
     "execution_count": 32,
     "metadata": {},
     "output_type": "execute_result"
    }
   ],
   "source": [
    "sp.Matrix(Q)"
   ]
  },
  {
   "cell_type": "code",
   "execution_count": 33,
   "id": "784f4119-666a-4d08-b549-471511b333b3",
   "metadata": {},
   "outputs": [],
   "source": [
    "ket_010 = np.kron(np.kron(ket_0, ket_1), ket_0)\n",
    "output = Q @ ket_010\n",
    "ver_output = np.kron(np.kron(ket_0, ket_0), ket_0)"
   ]
  },
  {
   "cell_type": "code",
   "execution_count": 34,
   "id": "07477682-41ad-4cfc-a6f2-bec8c6edea65",
   "metadata": {},
   "outputs": [
    {
     "data": {
      "text/latex": [
       "$\\displaystyle \\left[\\begin{matrix}1\\\\0\\\\0\\\\0\\\\0\\\\0\\\\0\\\\0\\end{matrix}\\right]$"
      ],
      "text/plain": [
       "Matrix([\n",
       "[1],\n",
       "[0],\n",
       "[0],\n",
       "[0],\n",
       "[0],\n",
       "[0],\n",
       "[0],\n",
       "[0]])"
      ]
     },
     "execution_count": 34,
     "metadata": {},
     "output_type": "execute_result"
    }
   ],
   "source": [
    "sp.Matrix(output)"
   ]
  },
  {
   "cell_type": "code",
   "execution_count": 35,
   "id": "100e8946-6d90-49da-991c-e80bc90b3ce0",
   "metadata": {},
   "outputs": [
    {
     "data": {
      "text/latex": [
       "$\\displaystyle \\left[\\begin{matrix}1\\\\0\\\\0\\\\0\\\\0\\\\0\\\\0\\\\0\\end{matrix}\\right]$"
      ],
      "text/plain": [
       "Matrix([\n",
       "[1],\n",
       "[0],\n",
       "[0],\n",
       "[0],\n",
       "[0],\n",
       "[0],\n",
       "[0],\n",
       "[0]])"
      ]
     },
     "execution_count": 35,
     "metadata": {},
     "output_type": "execute_result"
    }
   ],
   "source": [
    "sp.Matrix(ver_output)"
   ]
  },
  {
   "cell_type": "code",
   "execution_count": 49,
   "id": "59582492-c859-442b-b878-982e56b4ba8d",
   "metadata": {},
   "outputs": [],
   "source": [
    "# simulation reversible OR gate \n",
    "Q1 = np.kron(np.kron(X, X), I)\n",
    "Q2 = CCX #Toffoli gate\n",
    "Q3 = Q1\n",
    "Qf = Q1 @ Q2 @ Q3 # arithmetic order is important becaus matrices multiplication is not communicative "
   ]
  },
  {
   "cell_type": "code",
   "execution_count": 53,
   "id": "0477e4e4-99d8-4ee0-8ae4-107e7e431129",
   "metadata": {},
   "outputs": [
    {
     "data": {
      "text/latex": [
       "$\\displaystyle \\left[\\begin{matrix}0 & 1 & 0 & 0 & 0 & 0 & 0 & 0\\\\1 & 0 & 0 & 0 & 0 & 0 & 0 & 0\\\\0 & 0 & 1 & 0 & 0 & 0 & 0 & 0\\\\0 & 0 & 0 & 1 & 0 & 0 & 0 & 0\\\\0 & 0 & 0 & 0 & 1 & 0 & 0 & 0\\\\0 & 0 & 0 & 0 & 0 & 1 & 0 & 0\\\\0 & 0 & 0 & 0 & 0 & 0 & 1 & 0\\\\0 & 0 & 0 & 0 & 0 & 0 & 0 & 1\\end{matrix}\\right]$"
      ],
      "text/plain": [
       "Matrix([\n",
       "[0, 1, 0, 0, 0, 0, 0, 0],\n",
       "[1, 0, 0, 0, 0, 0, 0, 0],\n",
       "[0, 0, 1, 0, 0, 0, 0, 0],\n",
       "[0, 0, 0, 1, 0, 0, 0, 0],\n",
       "[0, 0, 0, 0, 1, 0, 0, 0],\n",
       "[0, 0, 0, 0, 0, 1, 0, 0],\n",
       "[0, 0, 0, 0, 0, 0, 1, 0],\n",
       "[0, 0, 0, 0, 0, 0, 0, 1]])"
      ]
     },
     "execution_count": 53,
     "metadata": {},
     "output_type": "execute_result"
    }
   ],
   "source": [
    "sp.Matrix(Qf)"
   ]
  },
  {
   "cell_type": "code",
   "execution_count": 54,
   "id": "1f2028c8-a57e-4cdb-a697-e0c33b50be95",
   "metadata": {},
   "outputs": [
    {
     "data": {
      "text/latex": [
       "$\\displaystyle \\left[\\begin{matrix}0\\\\0\\\\0\\\\1\\\\0\\\\0\\\\0\\\\0\\end{matrix}\\right]$"
      ],
      "text/plain": [
       "Matrix([\n",
       "[0],\n",
       "[0],\n",
       "[0],\n",
       "[1],\n",
       "[0],\n",
       "[0],\n",
       "[0],\n",
       "[0]])"
      ]
     },
     "execution_count": 54,
     "metadata": {},
     "output_type": "execute_result"
    }
   ],
   "source": [
    "# Testing\n",
    "ket_011 = np.kron(np.kron(ket_0, ket_1), ket_1)\n",
    "sp.Matrix(ket_011)"
   ]
  },
  {
   "cell_type": "code",
   "execution_count": 55,
   "id": "5efb165e-2503-4aca-ac7c-cd7eb7021865",
   "metadata": {},
   "outputs": [
    {
     "data": {
      "text/latex": [
       "$\\displaystyle \\left[\\begin{matrix}0\\\\0\\\\0\\\\1\\\\0\\\\0\\\\0\\\\0\\end{matrix}\\right]$"
      ],
      "text/plain": [
       "Matrix([\n",
       "[0],\n",
       "[0],\n",
       "[0],\n",
       "[1],\n",
       "[0],\n",
       "[0],\n",
       "[0],\n",
       "[0]])"
      ]
     },
     "execution_count": 55,
     "metadata": {},
     "output_type": "execute_result"
    }
   ],
   "source": [
    "sp.Matrix(Qf @ ket_011) "
   ]
  },
  {
   "cell_type": "code",
   "execution_count": 59,
   "id": "a14f9b15-450e-4695-ab94-01014cba864f",
   "metadata": {},
   "outputs": [
    {
     "data": {
      "text/latex": [
       "$\\displaystyle \\left[\\begin{matrix}1\\\\0\\\\0\\\\0\\\\0\\\\0\\\\0\\\\0\\end{matrix}\\right]$"
      ],
      "text/plain": [
       "Matrix([\n",
       "[1],\n",
       "[0],\n",
       "[0],\n",
       "[0],\n",
       "[0],\n",
       "[0],\n",
       "[0],\n",
       "[0]])"
      ]
     },
     "execution_count": 59,
     "metadata": {},
     "output_type": "execute_result"
    }
   ],
   "source": [
    "ket_001 = np.kron(np.kron(ket_0, ket_0), ket_1)\n",
    "sp.Matrix(Qf @ ket_001)"
   ]
  },
  {
   "cell_type": "code",
   "execution_count": 60,
   "id": "91659520-1441-4436-9493-64ca7a52df07",
   "metadata": {},
   "outputs": [
    {
     "data": {
      "text/latex": [
       "$\\displaystyle \\left[\\begin{matrix}1\\\\0\\\\0\\\\0\\\\0\\\\0\\\\0\\\\0\\end{matrix}\\right]$"
      ],
      "text/plain": [
       "Matrix([\n",
       "[1],\n",
       "[0],\n",
       "[0],\n",
       "[0],\n",
       "[0],\n",
       "[0],\n",
       "[0],\n",
       "[0]])"
      ]
     },
     "execution_count": 60,
     "metadata": {},
     "output_type": "execute_result"
    }
   ],
   "source": [
    "sp.Matrix(np.kron(np.kron(ket_0, ket_0), ket_0))"
   ]
  },
  {
   "cell_type": "code",
   "execution_count": null,
   "id": "67074e6a-8100-4b47-a8a2-772a376de074",
   "metadata": {},
   "outputs": [],
   "source": []
  }
 ],
 "metadata": {
  "kernelspec": {
   "display_name": "Python 3 (ipykernel)",
   "language": "python",
   "name": "python3"
  },
  "language_info": {
   "codemirror_mode": {
    "name": "ipython",
    "version": 3
   },
   "file_extension": ".py",
   "mimetype": "text/x-python",
   "name": "python",
   "nbconvert_exporter": "python",
   "pygments_lexer": "ipython3",
   "version": "3.12.4"
  }
 },
 "nbformat": 4,
 "nbformat_minor": 5
}
